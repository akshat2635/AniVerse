{
 "cells": [
  {
   "cell_type": "code",
   "execution_count": 1,
   "metadata": {},
   "outputs": [],
   "source": [
    "from sklearn.preprocessing import OneHotEncoder,MinMaxScaler\n",
    "import pandas as pd \n",
    "import numpy as np\n",
    "from sklearn.feature_extraction.text import TfidfVectorizer\n",
    "from scipy.sparse import hstack\n",
    "from sklearn.metrics.pairwise import linear_kernel,cosine_similarity"
   ]
  },
  {
   "cell_type": "code",
   "execution_count": 2,
   "metadata": {},
   "outputs": [],
   "source": [
    "scaler=MinMaxScaler()\n",
    "#content similarity\n",
    "content_features=pd.read_csv('./data/content_features.csv',index_col='anime_id')\n",
    "f_df=pd.read_csv(\"./data/temp.csv\",index_col=0)\n",
    "content_df=pd.read_csv('./data/content_based_data.csv',index_col='anime_id')\n",
    "\n",
    "content_df.fillna(\"unknown\",inplace=True)\n",
    "cf_index=pd.read_csv('./data/cf_index.csv',index_col=0)\n",
    "pop_anime=list(cf_index['anime_id'])\n",
    "\n",
    "cv=TfidfVectorizer(stop_words='english')\n",
    "vectors=cv.fit_transform(content_features['tags']).toarray()\n",
    "\n",
    "categorical=f_df.drop(['anime_id', 'url', 'title','episodes','aired', 'duration', 'score', 'scored_by', 'rank',\n",
    "       'popularity', 'synopsis', 'year','genres', 'themes','image_url', 'small_image_url', 'large_image_url',\n",
    "       'embed_url', 'yt_image'],axis=1)\n",
    "onehot_encoder = OneHotEncoder(handle_unknown='ignore')\n",
    "onehot_encoded = onehot_encoder.fit_transform(categorical)\n",
    "weight_tfidf = 0.85\n",
    "weight_onehot = 0.15\n",
    "combined_features = hstack([weight_tfidf*vectors, weight_onehot*onehot_encoded])\n",
    "cosine_sim_combined = linear_kernel(combined_features, combined_features)\n",
    "cosine_sim_combined=scaler.fit_transform(cosine_sim_combined)\n",
    "\n",
    "# collaborative similarity\n",
    "item_factors = np.loadtxt('./data/items.txt', dtype=float)\n",
    "cf_similarity=cosine_similarity(item_factors)\n",
    "cf_similarity=scaler.fit_transform(cf_similarity)"
   ]
  },
  {
   "cell_type": "code",
   "execution_count": 6,
   "metadata": {},
   "outputs": [
    {
     "data": {
      "text/plain": [
       "array([[1.        , 0.46401908, 0.2133589 , ..., 0.14461369, 0.23134134,\n",
       "        0.12110306],\n",
       "       [0.47740334, 1.        , 0.19946137, ..., 0.13828609, 0.22668007,\n",
       "        0.15732515],\n",
       "       [0.24346644, 0.21038287, 1.        , ..., 0.21358544, 0.20906669,\n",
       "        0.11930875],\n",
       "       ...,\n",
       "       [0.14810113, 0.1198199 , 0.18562258, ..., 1.        , 0.16359089,\n",
       "        0.22699741],\n",
       "       [0.23003012, 0.20552157, 0.17618725, ..., 0.15873422, 1.        ,\n",
       "        0.09888035],\n",
       "       [0.13997779, 0.15430367, 0.1039261 , ..., 0.2405015 , 0.11973392,\n",
       "        1.        ]])"
      ]
     },
     "execution_count": 6,
     "metadata": {},
     "output_type": "execute_result"
    }
   ],
   "source": [
    "cosine_sim_combined"
   ]
  },
  {
   "cell_type": "code",
   "execution_count": 8,
   "metadata": {},
   "outputs": [],
   "source": [
    "comp=cosine_sim_combined.astype(np.float16)"
   ]
  },
  {
   "cell_type": "code",
   "execution_count": 9,
   "metadata": {},
   "outputs": [],
   "source": [
    "npz_file = 'content_sim_compressed.npz'\n",
    "np.savez_compressed(npz_file, array=comp)"
   ]
  },
  {
   "cell_type": "code",
   "execution_count": 15,
   "metadata": {},
   "outputs": [],
   "source": [
    "comp_cf=cf_similarity.astype(np.float16)\n",
    "npz_file = 'cf_sim_compressed.npz'\n",
    "np.savez_compressed(npz_file, array=comp_cf)"
   ]
  },
  {
   "cell_type": "code",
   "execution_count": 13,
   "metadata": {},
   "outputs": [
    {
     "name": "stdout",
     "output_type": "stream",
     "text": [
      "Array saved to con1_compressed.joblib\n"
     ]
    }
   ],
   "source": [
    "# import numpy as np\n",
    "import joblib\n",
    "\n",
    "# Create a 6029x6029 array with random data and convert to float16\n",
    "# array = np.random.rand(6029, 6029).astype(np.float16)\n",
    "\n",
    "# Save the array using joblib with compression\n",
    "joblib_file = 'con1_compressed.joblib'\n",
    "joblib.dump(comp, joblib_file, compress=9)  # Higher values for more compression (3 is a good balance)\n",
    "\n",
    "print(f\"Array saved to {joblib_file}\")"
   ]
  },
  {
   "cell_type": "code",
   "execution_count": 14,
   "metadata": {},
   "outputs": [
    {
     "data": {
      "text/plain": [
       "array([[1.     , 0.464  , 0.2134 , ..., 0.1447 , 0.2313 , 0.1211 ],\n",
       "       [0.4773 , 1.     , 0.1995 , ..., 0.1383 , 0.2267 , 0.1573 ],\n",
       "       [0.2434 , 0.2103 , 1.     , ..., 0.2136 , 0.2091 , 0.1193 ],\n",
       "       ...,\n",
       "       [0.1481 , 0.1198 , 0.1857 , ..., 1.     , 0.1636 , 0.227  ],\n",
       "       [0.23   , 0.2056 , 0.1761 , ..., 0.1587 , 1.     , 0.0989 ],\n",
       "       [0.14   , 0.1543 , 0.10394, ..., 0.2405 , 0.11975, 1.     ]],\n",
       "      dtype=float16)"
      ]
     },
     "execution_count": 14,
     "metadata": {},
     "output_type": "execute_result"
    }
   ],
   "source": [
    "# npz_file = 'array_compressed.npz'\n",
    "loaded_data = np.load(npz_file)\n",
    "\n",
    "# Access the array using the key you used to save it (in this case, 'array')\n",
    "loaded_array = loaded_data['array']\n",
    "loaded_array"
   ]
  },
  {
   "cell_type": "code",
   "execution_count": 16,
   "metadata": {},
   "outputs": [
    {
     "data": {
      "text/plain": [
       "array([[1.     , 0.3564 , 0.1954 , ..., 0.1009 , 0.0976 , 0.07794],\n",
       "       [0.3564 , 1.     , 0.1324 , ..., 0.1249 , 0.08734, 0.11884],\n",
       "       [0.179  , 0.11456, 1.     , ..., 0.1012 , 0.1083 , 0.0991 ],\n",
       "       ...,\n",
       "       [0.06744, 0.0923 , 0.0865 , ..., 1.     , 0.4934 , 0.3901 ],\n",
       "       [0.0692 , 0.0586 , 0.09875, ..., 0.4963 , 1.     , 0.4978 ],\n",
       "       [0.0604 , 0.102  , 0.1004 , ..., 0.401  , 0.504  , 1.     ]],\n",
       "      dtype=float16)"
      ]
     },
     "execution_count": 16,
     "metadata": {},
     "output_type": "execute_result"
    }
   ],
   "source": [
    "loaded_data = np.load(npz_file)\n",
    "\n",
    "# Access the array using the key you used to save it (in this case, 'array')\n",
    "loaded_array = loaded_data['array']\n",
    "loaded_array"
   ]
  }
 ],
 "metadata": {
  "kernelspec": {
   "display_name": "Python 3",
   "language": "python",
   "name": "python3"
  },
  "language_info": {
   "codemirror_mode": {
    "name": "ipython",
    "version": 3
   },
   "file_extension": ".py",
   "mimetype": "text/x-python",
   "name": "python",
   "nbconvert_exporter": "python",
   "pygments_lexer": "ipython3",
   "version": "3.11.5"
  }
 },
 "nbformat": 4,
 "nbformat_minor": 2
}
